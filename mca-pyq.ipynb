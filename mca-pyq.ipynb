{
 "cells": [
  {
   "cell_type": "markdown",
   "id": "756d6f42",
   "metadata": {},
   "source": [
    "##### Create a dictionary containing any 5 elements in the form of key, value pair, and write python code to perform the following operations on it.\n",
    "###### i) To display all the keys.\n",
    "###### ii) To add new key value pair.\n",
    "###### iii) To delete specific element from the dictionary.\n",
    "###### iv) To modify value of a particular key."
   ]
  },
  {
   "cell_type": "code",
   "execution_count": 13,
   "id": "3225395d",
   "metadata": {},
   "outputs": [],
   "source": [
    "data = {\n",
    "    'city' : 'pune',\n",
    "    'state' : \"mh\",\n",
    "    'country' : 'india',\n",
    "    'code' : 411026,\n",
    "    'temparature' : 35.6\n",
    "}"
   ]
  },
  {
   "cell_type": "code",
   "execution_count": 14,
   "id": "598513d5",
   "metadata": {},
   "outputs": [
    {
     "data": {
      "text/plain": [
       "dict_keys(['city', 'state', 'country', 'code', 'temparature'])"
      ]
     },
     "execution_count": 14,
     "metadata": {},
     "output_type": "execute_result"
    }
   ],
   "source": [
    "data.keys()"
   ]
  },
  {
   "cell_type": "code",
   "execution_count": 6,
   "id": "f3005210",
   "metadata": {},
   "outputs": [],
   "source": [
    "data['price'] = '12000'"
   ]
  },
  {
   "cell_type": "code",
   "execution_count": 11,
   "id": "925d1ac8",
   "metadata": {},
   "outputs": [
    {
     "data": {
      "text/plain": [
       "'mh'"
      ]
     },
     "execution_count": 11,
     "metadata": {},
     "output_type": "execute_result"
    }
   ],
   "source": [
    "data.pop('state')"
   ]
  },
  {
   "cell_type": "code",
   "execution_count": 15,
   "id": "f40d93fa",
   "metadata": {},
   "outputs": [],
   "source": [
    "data['state'] = \"gj\""
   ]
  },
  {
   "cell_type": "code",
   "execution_count": 16,
   "id": "8b5494a4",
   "metadata": {},
   "outputs": [
    {
     "name": "stdout",
     "output_type": "stream",
     "text": [
      "{'city': 'pune', 'state': 'gj', 'country': 'india', 'code': 411026, 'temparature': 35.6}\n"
     ]
    }
   ],
   "source": [
    "print(data)"
   ]
  },
  {
   "cell_type": "markdown",
   "id": "e920e723",
   "metadata": {},
   "source": [
    "#### string pallindrome "
   ]
  },
  {
   "cell_type": "code",
   "execution_count": null,
   "id": "f07744d5",
   "metadata": {},
   "outputs": [],
   "source": [
    "def check_str_pallindrome(str:str)->bool:\n",
    "    '''\n",
    "    Function to check given string is pallindrome or not\n",
    "\n",
    "    Args:\n",
    "        str: Orginal string entered by user\n",
    "\n",
    "    Returns:\n",
    "        True: if the string is pallindrome\n",
    "        False: if the string is not palindrome\n",
    "    '''\n",
    "    str1 = str \n",
    "    start = 0\n",
    "    end = len(str1) - 1\n",
    "\n",
    "    for i in str1:\n",
    "        if str1[start] != str1[end]:\n",
    "            return False\n",
    "        \n",
    "        start += 1\n",
    "        end -= 1\n",
    "\n",
    "    return True \n"
   ]
  },
  {
   "cell_type": "code",
   "execution_count": 20,
   "id": "e2ee79d4",
   "metadata": {},
   "outputs": [
    {
     "data": {
      "text/plain": [
       "True"
      ]
     },
     "execution_count": 20,
     "metadata": {},
     "output_type": "execute_result"
    }
   ],
   "source": [
    "check_str_pallindrome('suhus')"
   ]
  },
  {
   "cell_type": "markdown",
   "id": "8b28c612",
   "metadata": {},
   "source": [
    "#### 1. Remove Duplicates from List"
   ]
  },
  {
   "cell_type": "code",
   "execution_count": 4,
   "id": "3fb6126d",
   "metadata": {},
   "outputs": [
    {
     "name": "stdout",
     "output_type": "stream",
     "text": [
      "[2, 34, 6, 8, 43, 12]\n",
      "{2, 34, 6, 8, 43, 12}\n",
      "unique ele -  [2, 34, 12, 43, 6, 8]\n",
      "duplicate ele -  [2, 34]\n"
     ]
    }
   ],
   "source": [
    "def remove_duplicate_using_set(lst: list)->list:\n",
    "    print(list(set(lst)))\n",
    "    print(set(lst))\n",
    "\n",
    "\n",
    "\n",
    "def remove_duplicate(lst: list)->list:\n",
    "    dup_lst = []\n",
    "    uni_lst = []\n",
    "    for i in lst:\n",
    "        if i not in uni_lst:\n",
    "            uni_lst.append(i)\n",
    "        else:\n",
    "            dup_lst.append(i)\n",
    "\n",
    "    print(\"unique ele - \", uni_lst)\n",
    "    print(\"duplicate ele - \", dup_lst)\n",
    "\n",
    "\n",
    "remove_duplicate_using_set([2,34,12,2,43,34,6,8])\n",
    "remove_duplicate([2,34,12,2,43,34,6,8])"
   ]
  }
 ],
 "metadata": {
  "kernelspec": {
   "display_name": "Python 3",
   "language": "python",
   "name": "python3"
  },
  "language_info": {
   "codemirror_mode": {
    "name": "ipython",
    "version": 3
   },
   "file_extension": ".py",
   "mimetype": "text/x-python",
   "name": "python",
   "nbconvert_exporter": "python",
   "pygments_lexer": "ipython3",
   "version": "3.11.5"
  }
 },
 "nbformat": 4,
 "nbformat_minor": 5
}

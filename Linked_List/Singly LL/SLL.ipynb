{
 "cells": [
  {
   "cell_type": "code",
   "id": "initial_id",
   "metadata": {
    "collapsed": true,
    "ExecuteTime": {
     "end_time": "2025-10-12T09:31:14.477743Z",
     "start_time": "2025-10-12T09:31:14.464394Z"
    }
   },
   "source": [
    "class Node:\n",
    "    def __init__(self, value):\n",
    "        self.data = value\n",
    "        self.next = None"
   ],
   "outputs": [],
   "execution_count": 1
  },
  {
   "metadata": {
    "ExecuteTime": {
     "end_time": "2025-10-12T09:52:48.950828Z",
     "start_time": "2025-10-12T09:52:48.942508Z"
    }
   },
   "cell_type": "code",
   "source": [
    "class LinkedList:\n",
    "    def __init__(self):\n",
    "        pass\n",
    "\n",
    "    def print_LL(self, head):\n",
    "        temp = head\n",
    "        while(temp != None):\n",
    "            print(temp.data,\"->\", end=' ')\n",
    "            temp = temp.next\n",
    "        return\n",
    "\n"
   ],
   "id": "66c7c93cd1231b7a",
   "outputs": [],
   "execution_count": 17
  },
  {
   "metadata": {
    "ExecuteTime": {
     "end_time": "2025-10-12T09:52:33.374269Z",
     "start_time": "2025-10-12T09:52:20.304299Z"
    }
   },
   "cell_type": "code",
   "source": [
    "def take_input():\n",
    "    value = int(input(\"Enter value of Node : \"))\n",
    "    head = None\n",
    "\n",
    "    while(value != -1):\n",
    "        newNode = Node(value)\n",
    "        if(head == None):\n",
    "            head = newNode\n",
    "        else:\n",
    "            temp = head\n",
    "            while(temp.next != None):\n",
    "                temp=temp.next\n",
    "            temp.next = newNode\n",
    "\n",
    "\n",
    "\n",
    "        value = int(input(\"Enter value of Node : \"))\n",
    "    return head\n",
    "\n",
    "\n",
    "\n",
    "\n",
    "new_head = take_input()\n",
    "\n",
    "# here time complexity is O(n^2)\n",
    "# so we have to optimized it"
   ],
   "id": "56f50b91c901f840",
   "outputs": [],
   "execution_count": 15
  },
  {
   "metadata": {
    "ExecuteTime": {
     "end_time": "2025-10-12T10:08:42.608660Z",
     "start_time": "2025-10-12T10:08:42.599693Z"
    }
   },
   "cell_type": "code",
   "source": [
    "ll=LinkedList()\n",
    "ll.print_LL(new_head)"
   ],
   "id": "3d723e76a00ce984",
   "outputs": [
    {
     "name": "stdout",
     "output_type": "stream",
     "text": [
      "56 -> 34 -> 34 -> 23 -> "
     ]
    }
   ],
   "execution_count": 20
  },
  {
   "metadata": {
    "ExecuteTime": {
     "end_time": "2025-10-12T10:08:38.558342Z",
     "start_time": "2025-10-12T10:08:28.657548Z"
    }
   },
   "cell_type": "code",
   "source": [
    "# There’s no traversal like before (no inner loop).\n",
    "# So, each insertion is constant time.\n",
    "def take_optimized_input():\n",
    "    value = int(input(\"Enter value of Node : \"))\n",
    "    head = None\n",
    "    tail = None\n",
    "\n",
    "    while(value != -1):\n",
    "        newNode = Node(value)\n",
    "        if(head == None):\n",
    "            head = newNode\n",
    "            tail = head\n",
    "        else:\n",
    "            tail.next = newNode\n",
    "            tail = newNode\n",
    "\n",
    "        value = int(input(\"Enter value of Node : \"))\n",
    "    return head\n",
    "\n",
    "\n",
    "\n",
    "\n",
    "new_head = take_input()\n",
    "\n",
    "# here time complexity is O(n^2)\n",
    "# so we have to optimized it"
   ],
   "id": "1701153befb06547",
   "outputs": [],
   "execution_count": 19
  },
  {
   "metadata": {},
   "cell_type": "code",
   "outputs": [],
   "execution_count": null,
   "source": "",
   "id": "888131ad1dac6df3"
  }
 ],
 "metadata": {
  "kernelspec": {
   "display_name": "Python 3",
   "language": "python",
   "name": "python3"
  },
  "language_info": {
   "codemirror_mode": {
    "name": "ipython",
    "version": 2
   },
   "file_extension": ".py",
   "mimetype": "text/x-python",
   "name": "python",
   "nbconvert_exporter": "python",
   "pygments_lexer": "ipython2",
   "version": "2.7.6"
  }
 },
 "nbformat": 4,
 "nbformat_minor": 5
}

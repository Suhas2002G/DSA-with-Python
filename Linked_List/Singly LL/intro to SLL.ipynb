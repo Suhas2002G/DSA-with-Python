{
 "cells": [
  {
   "cell_type": "code",
   "id": "initial_id",
   "metadata": {
    "collapsed": true,
    "ExecuteTime": {
     "end_time": "2025-10-11T14:12:40.315193Z",
     "start_time": "2025-10-11T14:12:40.310165Z"
    }
   },
   "source": [
    "# Chapter : 117\n",
    "# Create a Node of LL\n",
    "\n",
    "class Node:\n",
    "    def __init__(self, value):\n",
    "        self.data = value\n",
    "        self.next = None"
   ],
   "outputs": [],
   "execution_count": 19
  },
  {
   "metadata": {
    "ExecuteTime": {
     "end_time": "2025-10-11T14:12:42.042450Z",
     "start_time": "2025-10-11T14:12:42.038078Z"
    }
   },
   "cell_type": "code",
   "source": [
    "first=Node(1)\n",
    "second=Node(2)\n",
    "third=Node(3)\n",
    "\n",
    "# Here just three nodes will be created but they will not be connected to each other"
   ],
   "id": "42dc6513b560b6d9",
   "outputs": [],
   "execution_count": 20
  },
  {
   "metadata": {
    "ExecuteTime": {
     "end_time": "2025-10-11T14:12:43.307866Z",
     "start_time": "2025-10-11T14:12:43.302848Z"
    }
   },
   "cell_type": "code",
   "source": [
    "first.next = second\n",
    "second.next = third\n",
    "\n",
    "# Here, what we have done, just said hey,first can you remember the id of second, and hey,second can you remeber third,\n",
    "# Now they are connected to each other\n",
    "\n",
    "# the problem is as we have to increae the size of LL, then writing this repeatative code might not be effiecient, so we will create a 'head'"
   ],
   "id": "c25c0f61071337ec",
   "outputs": [],
   "execution_count": 21
  },
  {
   "metadata": {
    "ExecuteTime": {
     "end_time": "2025-10-11T14:12:44.588949Z",
     "start_time": "2025-10-11T14:12:44.584492Z"
    }
   },
   "cell_type": "code",
   "source": [
    "head = first\n",
    "del(first)\n",
    "del(second)\n",
    "del(third)"
   ],
   "id": "b81b7c63efbb4961",
   "outputs": [],
   "execution_count": 22
  },
  {
   "metadata": {
    "ExecuteTime": {
     "end_time": "2025-10-11T14:12:47.458631Z",
     "start_time": "2025-10-11T14:12:47.453119Z"
    }
   },
   "cell_type": "code",
   "source": "head.data",
   "id": "53da26db08ce7f23",
   "outputs": [
    {
     "data": {
      "text/plain": [
       "1"
      ]
     },
     "execution_count": 23,
     "metadata": {},
     "output_type": "execute_result"
    }
   ],
   "execution_count": 23
  },
  {
   "metadata": {
    "ExecuteTime": {
     "end_time": "2025-10-11T14:12:47.998314Z",
     "start_time": "2025-10-11T14:12:47.992318Z"
    }
   },
   "cell_type": "code",
   "source": "head.next.data",
   "id": "6e7325a5d22c731d",
   "outputs": [
    {
     "data": {
      "text/plain": [
       "2"
      ]
     },
     "execution_count": 24,
     "metadata": {},
     "output_type": "execute_result"
    }
   ],
   "execution_count": 24
  },
  {
   "metadata": {
    "ExecuteTime": {
     "end_time": "2025-10-11T14:12:48.946237Z",
     "start_time": "2025-10-11T14:12:48.941485Z"
    }
   },
   "cell_type": "code",
   "source": "head.next.next.data",
   "id": "9c7ab18c8d71537",
   "outputs": [
    {
     "data": {
      "text/plain": [
       "3"
      ]
     },
     "execution_count": 25,
     "metadata": {},
     "output_type": "execute_result"
    }
   ],
   "execution_count": 25
  },
  {
   "metadata": {
    "ExecuteTime": {
     "end_time": "2025-10-11T14:13:25.211964Z",
     "start_time": "2025-10-11T14:13:25.189628Z"
    }
   },
   "cell_type": "code",
   "source": "head.next.next.next.data",
   "id": "8364d416c87b55b4",
   "outputs": [
    {
     "ename": "AttributeError",
     "evalue": "'NoneType' object has no attribute 'data'",
     "output_type": "error",
     "traceback": [
      "\u001B[31m---------------------------------------------------------------------------\u001B[39m",
      "\u001B[31mAttributeError\u001B[39m                            Traceback (most recent call last)",
      "\u001B[36mCell\u001B[39m\u001B[36m \u001B[39m\u001B[32mIn[26]\u001B[39m\u001B[32m, line 1\u001B[39m\n\u001B[32m----> \u001B[39m\u001B[32m1\u001B[39m \u001B[43mhead\u001B[49m\u001B[43m.\u001B[49m\u001B[43mnext\u001B[49m\u001B[43m.\u001B[49m\u001B[43mnext\u001B[49m\u001B[43m.\u001B[49m\u001B[43mnext\u001B[49m\u001B[43m.\u001B[49m\u001B[43mdata\u001B[49m\n",
      "\u001B[31mAttributeError\u001B[39m: 'NoneType' object has no attribute 'data'"
     ]
    }
   ],
   "execution_count": 26
  },
  {
   "metadata": {
    "ExecuteTime": {
     "end_time": "2025-10-11T14:58:17.806578Z",
     "start_time": "2025-10-11T14:58:17.802098Z"
    }
   },
   "cell_type": "code",
   "source": [
    "# chapter = 118\n",
    "\n",
    "# Print Linked List\n",
    "def display_LL(head):\n",
    "    temp = head\n",
    "    while temp != None:\n",
    "        print(temp.data)\n",
    "        temp = temp.next\n",
    "    return\n",
    "\n",
    "# function call\n",
    "display_LL(head)"
   ],
   "id": "4ed3ceb5b9609ce1",
   "outputs": [
    {
     "name": "stdout",
     "output_type": "stream",
     "text": [
      "1\n",
      "2\n",
      "3\n"
     ]
    }
   ],
   "execution_count": 30
  },
  {
   "metadata": {},
   "cell_type": "code",
   "outputs": [],
   "execution_count": null,
   "source": "",
   "id": "d003c8ae2ff3291f"
  }
 ],
 "metadata": {
  "kernelspec": {
   "display_name": "Python 3",
   "language": "python",
   "name": "python3"
  },
  "language_info": {
   "codemirror_mode": {
    "name": "ipython",
    "version": 2
   },
   "file_extension": ".py",
   "mimetype": "text/x-python",
   "name": "python",
   "nbconvert_exporter": "python",
   "pygments_lexer": "ipython2",
   "version": "2.7.6"
  }
 },
 "nbformat": 4,
 "nbformat_minor": 5
}

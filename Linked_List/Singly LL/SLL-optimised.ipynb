{
 "cells": [
  {
   "cell_type": "code",
   "id": "initial_id",
   "metadata": {
    "collapsed": true,
    "ExecuteTime": {
     "end_time": "2025-10-12T10:23:48.937939Z",
     "start_time": "2025-10-12T10:23:48.925527Z"
    }
   },
   "source": [
    "class Node:\n",
    "    def __init__(self, value):\n",
    "        self.data = value\n",
    "        self.next = None\n"
   ],
   "outputs": [],
   "execution_count": 1
  },
  {
   "metadata": {
    "ExecuteTime": {
     "end_time": "2025-10-12T10:28:31.314994Z",
     "start_time": "2025-10-12T10:28:22.294265Z"
    }
   },
   "cell_type": "code",
   "source": [
    "def take_input():\n",
    "    value = int(input(\"Enter value :- \"))\n",
    "    head = None\n",
    "    tail = None\n",
    "\n",
    "    while(value != -1):\n",
    "        newNode = Node(value)\n",
    "\n",
    "        if head == None:\n",
    "            head = newNode\n",
    "            tail = head\n",
    "        else:\n",
    "            tail.next = newNode\n",
    "            tail = newNode\n",
    "\n",
    "        value = int(input(\"Enter value :- \"))\n",
    "    return head\n",
    "\n",
    "new_head = take_input()\n"
   ],
   "id": "eadd0712fa9bd9c3",
   "outputs": [],
   "execution_count": 2
  },
  {
   "metadata": {
    "ExecuteTime": {
     "end_time": "2025-10-12T10:30:05.642888Z",
     "start_time": "2025-10-12T10:30:05.634377Z"
    }
   },
   "cell_type": "code",
   "source": [
    "def print_LL(head):\n",
    "    curr = head\n",
    "    while(curr != None):\n",
    "        print(curr.data,\"->\", end=' ')\n",
    "        curr = curr.next\n"
   ],
   "id": "e44032d9dad5819",
   "outputs": [],
   "execution_count": 7
  },
  {
   "metadata": {
    "ExecuteTime": {
     "end_time": "2025-10-12T10:30:06.046597Z",
     "start_time": "2025-10-12T10:30:06.038595Z"
    }
   },
   "cell_type": "code",
   "source": "print_LL(new_head)",
   "id": "2f9684592eee8eb1",
   "outputs": [
    {
     "name": "stdout",
     "output_type": "stream",
     "text": [
      "5 -> 45 -> 34 -> 34 -> "
     ]
    }
   ],
   "execution_count": 8
  },
  {
   "metadata": {
    "ExecuteTime": {
     "end_time": "2025-10-12T16:34:52.282480Z",
     "start_time": "2025-10-12T16:34:52.280140Z"
    }
   },
   "cell_type": "code",
   "source": "",
   "id": "236c28300ff425e4",
   "outputs": [],
   "execution_count": null
  },
  {
   "metadata": {
    "ExecuteTime": {
     "end_time": "2025-10-12T16:34:52.458471Z",
     "start_time": "2025-10-12T16:34:52.456026Z"
    }
   },
   "cell_type": "code",
   "source": "",
   "id": "a42aa0f3fa2021fa",
   "outputs": [],
   "execution_count": null
  },
  {
   "metadata": {
    "ExecuteTime": {
     "end_time": "2025-10-12T17:02:20.494527Z",
     "start_time": "2025-10-12T17:02:20.488960Z"
    }
   },
   "cell_type": "code",
   "source": [
    "def check_pallindrome(str):\n",
    "    rev = ''\n",
    "    for i in str:\n",
    "        rev = i + rev\n",
    "    if rev == str:\n",
    "        return True\n",
    "    return False\n",
    "\n",
    "result = check_pallindrome('madam')\n",
    "print(result)\n"
   ],
   "id": "90f7880bbb3194aa",
   "outputs": [
    {
     "name": "stdout",
     "output_type": "stream",
     "text": [
      "True\n"
     ]
    }
   ],
   "execution_count": 10
  },
  {
   "metadata": {
    "ExecuteTime": {
     "end_time": "2025-10-12T17:08:49.050501Z",
     "start_time": "2025-10-12T17:08:49.043132Z"
    }
   },
   "cell_type": "code",
   "source": [
    "\n",
    "str = 'madam'\n",
    "\n",
    "def check_pall(str):\n",
    "    start = 0\n",
    "    end = len(str)-1\n",
    "    while start < end:\n",
    "        if str[start] != str[end]:\n",
    "            return False\n",
    "        start += 1\n",
    "        end -= 1\n",
    "    return True\n",
    "\n",
    "check_pall(str)"
   ],
   "id": "b03a6aec07a33760",
   "outputs": [
    {
     "data": {
      "text/plain": [
       "True"
      ]
     },
     "execution_count": 14,
     "metadata": {},
     "output_type": "execute_result"
    }
   ],
   "execution_count": 14
  },
  {
   "metadata": {
    "ExecuteTime": {
     "end_time": "2025-10-12T17:18:59.099392Z",
     "start_time": "2025-10-12T17:18:59.094624Z"
    }
   },
   "cell_type": "code",
   "source": [
    "str = 'suh12'\n",
    "print(\"\".join(reversed(str)))"
   ],
   "id": "127359e148dd165",
   "outputs": [
    {
     "name": "stdout",
     "output_type": "stream",
     "text": [
      "21hus\n"
     ]
    }
   ],
   "execution_count": 21
  },
  {
   "metadata": {
    "ExecuteTime": {
     "end_time": "2025-10-12T17:34:32.753804Z",
     "start_time": "2025-10-12T17:34:32.747572Z"
    }
   },
   "cell_type": "code",
   "source": [
    "def analyze_cart(cart):\n",
    "    # Unique items\n",
    "    unique_items = list(set(cart))\n",
    "\n",
    "\n",
    "    # Total items\n",
    "    total_items = len(cart)\n",
    "~\n",
    "    # Return all data in dictionary\n",
    "    return {\n",
    "        'unique_items': unique_items,\n",
    "        'total_items': total_items,\n",
    "\n",
    "    }\n",
    "\n",
    "\n",
    "# 🧪 Example Usage:\n",
    "cart = [\"apple\", \"banana\", \"apple\", \"mango\", \"banana\", \"apple\"]\n",
    "# cart = []\n",
    "result = analyze_cart(cart)\n",
    "\n",
    "print(result)\n"
   ],
   "id": "d4e799f6506c4d91",
   "outputs": [
    {
     "name": "stdout",
     "output_type": "stream",
     "text": [
      "{'unique_items': ['apple', 'banana', 'mango'], 'total_items': 6}\n"
     ]
    }
   ],
   "execution_count": 25
  },
  {
   "metadata": {},
   "cell_type": "code",
   "outputs": [],
   "execution_count": null,
   "source": "",
   "id": "85a519f2db04ccaf"
  }
 ],
 "metadata": {
  "kernelspec": {
   "display_name": "Python 3",
   "language": "python",
   "name": "python3"
  },
  "language_info": {
   "codemirror_mode": {
    "name": "ipython",
    "version": 2
   },
   "file_extension": ".py",
   "mimetype": "text/x-python",
   "name": "python",
   "nbconvert_exporter": "python",
   "pygments_lexer": "ipython2",
   "version": "2.7.6"
  }
 },
 "nbformat": 4,
 "nbformat_minor": 5
}

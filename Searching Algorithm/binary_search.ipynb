{
 "cells": [
  {
   "metadata": {},
   "cell_type": "markdown",
   "source": [
    "# Binary Search\n",
    "- Binary Search is a divide-and-conquer algorithm used to efficiently locate a target element in a sorted array.\n",
    "- It works by repeatedly comparing the target with the middle element, then discarding half of the search space until the element is found or the search interval becomes empty.\n",
    "- Its time complexity is O(log n) and space complexity is O(1).\n",
    "\n",
    "## Requirements\n",
    "- Works only on **sorted arrays/lists**\n",
    "- Time Complexity: **O(log n)**\n",
    "- Space Complexity: **O(1)**\n",
    "\n",
    "---\n",
    "\n",
    "## Steps\n",
    "1. Initialize:\n",
    "   - `low = 0`\n",
    "   - `high = n - 1`\n",
    "2. While `low <= high`:\n",
    "   - Find middle index → `mid = (low + high) // 2`\n",
    "   - Compare:\n",
    "     - If `arr[mid] == target` → **return mid**\n",
    "     - If `arr[mid] < target` → search **right half** → `low = mid + 1`\n",
    "     - Else (`arr[mid] > target`) → search **left half** → `high = mid - 1`\n",
    "3. If not found → return `-1`\n"
   ],
   "id": "460a94c9de7ebc2a"
  },
  {
   "cell_type": "code",
   "id": "initial_id",
   "metadata": {
    "collapsed": true,
    "ExecuteTime": {
     "end_time": "2025-09-20T12:15:23.177271Z",
     "start_time": "2025-09-20T12:15:23.172384Z"
    }
   },
   "source": [
    "# CODE\n",
    "def binary_search(arr, target):\n",
    "    size = len(arr)\n",
    "    low = 0\n",
    "    high = size - 1\n",
    "    count = 0\n",
    "    while low <= high:\n",
    "        count += 1\n",
    "        mid = (low+high)//2\n",
    "        if arr[mid] == target:\n",
    "            return mid\n",
    "        elif arr[mid] < target:\n",
    "            low = mid + 1\n",
    "        elif arr[mid] > target:\n",
    "            high = mid - 1\n",
    "\n",
    "    return -1\n",
    "\n"
   ],
   "outputs": [],
   "execution_count": 22
  },
  {
   "metadata": {
    "ExecuteTime": {
     "end_time": "2025-09-20T12:15:35.018595Z",
     "start_time": "2025-09-20T12:15:35.013287Z"
    }
   },
   "cell_type": "code",
   "source": [
    "lst = [12,4,2,3,12,23,13,123]\n",
    "target = 123\n",
    "result = binary_search(lst, target)\n",
    "print(\"Target elemenet's index = \",result)"
   ],
   "id": "9520652315052a5e",
   "outputs": [
    {
     "name": "stdout",
     "output_type": "stream",
     "text": [
      "Target elemenet's index =  7\n"
     ]
    }
   ],
   "execution_count": 25
  },
  {
   "metadata": {
    "ExecuteTime": {
     "end_time": "2025-09-20T12:17:54.280464Z",
     "start_time": "2025-09-20T12:17:54.277365Z"
    }
   },
   "cell_type": "code",
   "source": "",
   "id": "949c8c2de12bfbbd",
   "outputs": [],
   "execution_count": null
  },
  {
   "metadata": {},
   "cell_type": "markdown",
   "source": [
    "Q1. Find Element in Sorted Array\n",
    "Given a sorted array, implement binary search to find the index of a target number.\n",
    "- Example: arr = [1, 3, 5, 7, 9]\n",
    "- target = 7\n",
    "- output: 3"
   ],
   "id": "789dc72de06ebeee"
  },
  {
   "metadata": {
    "ExecuteTime": {
     "end_time": "2025-09-20T12:28:05.607980Z",
     "start_time": "2025-09-20T12:28:05.601793Z"
    }
   },
   "cell_type": "code",
   "source": [
    "def binarySearch(arr, target):\n",
    "    low = 0\n",
    "    high = len(arr)-1\n",
    "\n",
    "    while low <= high:\n",
    "        mid = (low+high)//2\n",
    "        if arr[mid] == target:\n",
    "            return mid\n",
    "        elif arr[mid] < target:\n",
    "            low = mid + 1\n",
    "        elif arr[mid] > target:\n",
    "            high = mid -1\n",
    "    return -1\n",
    "\n",
    "\n",
    "arr = [1, 3, 5, 7, 9]\n",
    "target = 7\n",
    "print(binarySearch(arr, target))\n"
   ],
   "id": "8ada3b9a8a8d4dc0",
   "outputs": [
    {
     "name": "stdout",
     "output_type": "stream",
     "text": [
      "3\n"
     ]
    }
   ],
   "execution_count": 27
  },
  {
   "metadata": {},
   "cell_type": "markdown",
   "source": [
    "Q2. First and Last Position of Target\n",
    "Find the first and last occurrence of a target element in a sorted array.\n",
    "- Example: arr = [5, 7, 7, 8, 8, 10]\n",
    "- target = 8\n",
    "- output: [3, 4]"
   ],
   "id": "9a028dea393cac31"
  },
  {
   "metadata": {},
   "cell_type": "code",
   "outputs": [],
   "execution_count": null,
   "source": "",
   "id": "ec33e475dce1aaf3"
  }
 ],
 "metadata": {
  "kernelspec": {
   "display_name": "Python 3",
   "language": "python",
   "name": "python3"
  },
  "language_info": {
   "codemirror_mode": {
    "name": "ipython",
    "version": 2
   },
   "file_extension": ".py",
   "mimetype": "text/x-python",
   "name": "python",
   "nbconvert_exporter": "python",
   "pygments_lexer": "ipython2",
   "version": "2.7.6"
  }
 },
 "nbformat": 4,
 "nbformat_minor": 5
}
